{
 "cells": [
  {
   "cell_type": "code",
   "execution_count": 1,
   "id": "17fc3c95",
   "metadata": {},
   "outputs": [],
   "source": [
    "# -*- coding: utf-8 -*-\n",
    "\"\"\"\n",
    "Created on Mon Nov  6 21:39:46 2017\n",
    "@author: Siqi Miao\n",
    "\"\"\"\n",
    "# test2.py\n",
    "#\n",
    "# Test that the simplex method code takes a correct step\n",
    "# when the form is slightly more complicated. \n",
    "#\n",
    "# indices of iB, iN start with 1\n",
    "\n",
    "import numpy as np\n",
    "from numpy.linalg import norm\n",
    "from Simplex import *\n",
    "\n",
    "A = np.matrix([[-4,    1,     0,    -3,    -3,    -5],\n",
    "               [1,    -2,    -1,    -2,    -2,     3],\n",
    "               [1,     2,     4,     7,     7,    -1]],dtype = np.float64)\n",
    "\n",
    "\n",
    "\n",
    "b = np.matrix([[-2],\n",
    "               [-6],\n",
    "               [17]],dtype = np.float64)\n",
    "              \n",
    "\n",
    "iB = [1,2,3]\n",
    "iN = [4,5,6]\n",
    "xB = np.matrix([[1],[2],[3]],dtype = np.float64)\n",
    "c  = np.matrix([[1,1,1,2,5,1]],dtype = np.float64)\n",
    "\n",
    "# take a step\n",
    "irule = 0\n",
    "[istatus,iB,iN,xB,inv] = simplex_step(A,b,c,iB,iN,xB,irule)\n",
    "\n",
    "X = np.zeros((6,1),dtype = np.float64)\n",
    "X[[(b-1) for b in iB]] = xB\n",
    "\n",
    "if (istatus != 0):\n",
    "   print('INCORRECT ISTATUS!\\n')\n",
    "   \n",
    "if (norm(X-np.matrix([[0],[1],[2],[1],[0],[0]])) > 1e-10):\n",
    "   print('INCORRECT STEP!\\n')\n",
    "\n",
    "\n",
    "if (norm(np.array(sorted(iN))-np.array([1, 5, 6])) > 1e-10):\n",
    "   print('iN incorrect!\\n')\n",
    "\n",
    "\n",
    "if (norm(np.array(sorted(iB))-np.array([2, 3, 4])) > 1e-10):\n",
    "   print('iB incorrect!\\n')"
   ]
  },
  {
   "cell_type": "code",
   "execution_count": null,
   "id": "6a841743",
   "metadata": {},
   "outputs": [],
   "source": []
  }
 ],
 "metadata": {
  "kernelspec": {
   "display_name": "Python 3",
   "language": "python",
   "name": "python3"
  },
  "language_info": {
   "codemirror_mode": {
    "name": "ipython",
    "version": 3
   },
   "file_extension": ".py",
   "mimetype": "text/x-python",
   "name": "python",
   "nbconvert_exporter": "python",
   "pygments_lexer": "ipython3",
   "version": "3.8.8"
  }
 },
 "nbformat": 4,
 "nbformat_minor": 5
}
