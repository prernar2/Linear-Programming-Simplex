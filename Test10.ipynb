{
 "cells": [
  {
   "cell_type": "code",
   "execution_count": 4,
   "id": "09e03cef",
   "metadata": {},
   "outputs": [
    {
     "name": "stdout",
     "output_type": "stream",
     "text": [
      "4\n"
     ]
    }
   ],
   "source": [
    "# -*- coding: utf-8 -*-\n",
    "\"\"\"\n",
    "Created on Tue Nov  7 21:02:17 2017\n",
    "@author: Siqi Miao\n",
    "\"\"\"\n",
    "\n",
    "# test10.py\n",
    "#\n",
    "# An infeasible input to simplex method.\n",
    "#\n",
    "# indices of iB, iN start with 1\n",
    "\n",
    "import numpy as np\n",
    "from Simplex import *\n",
    "\n",
    "\n",
    "# first form an invertible matrix\n",
    "R = np.matrix([[ 4, 1,  1],\n",
    "               [ 1, 2,  1],\n",
    "               [ 1, 1,  1]],dtype = np.float64)\n",
    "\n",
    "# form a vector b which is in the span of R\n",
    "b=R*np.matrix([[ 1],\n",
    "               [-4],\n",
    "               [-1]],dtype = np.float64)\n",
    "\n",
    "\n",
    "B=np.matrix([[1, 1, 1],\n",
    "             [1, 1, 0],\n",
    "             [1, 0, 0]],dtype = np.float64)\n",
    "\n",
    "A = np.hstack((R,B))\n",
    "\n",
    "c=np.matrix([[-2, 1, 1, -1, -1, -1]],dtype = np.float64)\n",
    "\n",
    "\n",
    "\n",
    "irule = 1\n",
    "[istatus,X,eta,iB,iN,xB] = simplex_method(A,b,c,irule)\n",
    "\n",
    "print(istatus)\n",
    "\n",
    "if (istatus !=4):\n",
    "   print('istatus is wrong\\n');"
   ]
  },
  {
   "cell_type": "code",
   "execution_count": null,
   "id": "3f3d366a",
   "metadata": {},
   "outputs": [],
   "source": []
  }
 ],
 "metadata": {
  "kernelspec": {
   "display_name": "Python 3",
   "language": "python",
   "name": "python3"
  },
  "language_info": {
   "codemirror_mode": {
    "name": "ipython",
    "version": 3
   },
   "file_extension": ".py",
   "mimetype": "text/x-python",
   "name": "python",
   "nbconvert_exporter": "python",
   "pygments_lexer": "ipython3",
   "version": "3.8.8"
  }
 },
 "nbformat": 4,
 "nbformat_minor": 5
}
